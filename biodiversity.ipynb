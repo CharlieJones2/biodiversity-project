{
 "cells": [
  {
   "cell_type": "markdown",
   "metadata": {},
   "source": [
    "# Analysing Biodiversity in National Parks in the USA"
   ]
  },
  {
   "cell_type": "markdown",
   "metadata": {},
   "source": [
    "### Introduction"
   ]
  },
  {
   "cell_type": "markdown",
   "metadata": {},
   "source": [
    "This project will analyse data on biodiversity in national parks (in the USA). This project aims to answer the following questions:\n",
    "* How many species in the dataset are endangered?\n",
    "* Are certain types of species more likely to be endangered than others?\n",
    "* Is there any significant difference in the probability of one species being endangered relative to another?\n",
    "\n",
    "After exploring these questions, this project will provide conclusions and give some insight for further research and discuss the limitations of the data and the methodologies."
   ]
  },
  {
   "cell_type": "markdown",
   "metadata": {},
   "source": [
    "### Exploring the data\n",
    "First, relevant libraries which will be used for the project are imported as follows."
   ]
  },
  {
   "cell_type": "code",
   "execution_count": 1,
   "metadata": {},
   "outputs": [],
   "source": [
    "import numpy as np\n",
    "import pandas as pd\n",
    "from matplotlib import pyplot as plt\n",
    "import seaborn as sns"
   ]
  },
  {
   "cell_type": "markdown",
   "metadata": {},
   "source": [
    "The data will be loaded into dataframes to allow for analysis, done using the `.head()` method. The `observations.csv` file contains data on:\n",
    "* The scientific name of each animal.\n",
    "* The location in which it was observed.\n",
    "* The number of times it was observed."
   ]
  },
  {
   "cell_type": "code",
   "execution_count": 2,
   "metadata": {},
   "outputs": [
    {
     "data": {
      "text/html": [
       "<div>\n",
       "<style scoped>\n",
       "    .dataframe tbody tr th:only-of-type {\n",
       "        vertical-align: middle;\n",
       "    }\n",
       "\n",
       "    .dataframe tbody tr th {\n",
       "        vertical-align: top;\n",
       "    }\n",
       "\n",
       "    .dataframe thead th {\n",
       "        text-align: right;\n",
       "    }\n",
       "</style>\n",
       "<table border=\"1\" class=\"dataframe\">\n",
       "  <thead>\n",
       "    <tr style=\"text-align: right;\">\n",
       "      <th></th>\n",
       "      <th>scientific_name</th>\n",
       "      <th>park_name</th>\n",
       "      <th>observations</th>\n",
       "    </tr>\n",
       "  </thead>\n",
       "  <tbody>\n",
       "    <tr>\n",
       "      <th>0</th>\n",
       "      <td>Vicia benghalensis</td>\n",
       "      <td>Great Smoky Mountains National Park</td>\n",
       "      <td>68</td>\n",
       "    </tr>\n",
       "    <tr>\n",
       "      <th>1</th>\n",
       "      <td>Neovison vison</td>\n",
       "      <td>Great Smoky Mountains National Park</td>\n",
       "      <td>77</td>\n",
       "    </tr>\n",
       "    <tr>\n",
       "      <th>2</th>\n",
       "      <td>Prunus subcordata</td>\n",
       "      <td>Yosemite National Park</td>\n",
       "      <td>138</td>\n",
       "    </tr>\n",
       "    <tr>\n",
       "      <th>3</th>\n",
       "      <td>Abutilon theophrasti</td>\n",
       "      <td>Bryce National Park</td>\n",
       "      <td>84</td>\n",
       "    </tr>\n",
       "    <tr>\n",
       "      <th>4</th>\n",
       "      <td>Githopsis specularioides</td>\n",
       "      <td>Great Smoky Mountains National Park</td>\n",
       "      <td>85</td>\n",
       "    </tr>\n",
       "  </tbody>\n",
       "</table>\n",
       "</div>"
      ],
      "text/plain": [
       "            scientific_name                            park_name  observations\n",
       "0        Vicia benghalensis  Great Smoky Mountains National Park            68\n",
       "1            Neovison vison  Great Smoky Mountains National Park            77\n",
       "2         Prunus subcordata               Yosemite National Park           138\n",
       "3      Abutilon theophrasti                  Bryce National Park            84\n",
       "4  Githopsis specularioides  Great Smoky Mountains National Park            85"
      ]
     },
     "execution_count": 2,
     "metadata": {},
     "output_type": "execute_result"
    }
   ],
   "source": [
    "obs = pd.read_csv('observations.csv')\n",
    "obs.head()"
   ]
  },
  {
   "cell_type": "markdown",
   "metadata": {},
   "source": [
    "The `species.csv` file contains more specific information on each species, namely:\n",
    "* The `common_names` which might be of more interest to non-specialists.\n",
    "* The `category`, such as mammal, reptile or amphibian.\n",
    "* The `conservation_status`, i.e. whether or not the animal is under conservation."
   ]
  },
  {
   "cell_type": "code",
   "execution_count": 3,
   "metadata": {},
   "outputs": [
    {
     "data": {
      "text/html": [
       "<div>\n",
       "<style scoped>\n",
       "    .dataframe tbody tr th:only-of-type {\n",
       "        vertical-align: middle;\n",
       "    }\n",
       "\n",
       "    .dataframe tbody tr th {\n",
       "        vertical-align: top;\n",
       "    }\n",
       "\n",
       "    .dataframe thead th {\n",
       "        text-align: right;\n",
       "    }\n",
       "</style>\n",
       "<table border=\"1\" class=\"dataframe\">\n",
       "  <thead>\n",
       "    <tr style=\"text-align: right;\">\n",
       "      <th></th>\n",
       "      <th>category</th>\n",
       "      <th>scientific_name</th>\n",
       "      <th>common_names</th>\n",
       "      <th>conservation_status</th>\n",
       "    </tr>\n",
       "  </thead>\n",
       "  <tbody>\n",
       "    <tr>\n",
       "      <th>0</th>\n",
       "      <td>Mammal</td>\n",
       "      <td>Clethrionomys gapperi gapperi</td>\n",
       "      <td>Gapper's Red-Backed Vole</td>\n",
       "      <td>NaN</td>\n",
       "    </tr>\n",
       "    <tr>\n",
       "      <th>1</th>\n",
       "      <td>Mammal</td>\n",
       "      <td>Bos bison</td>\n",
       "      <td>American Bison, Bison</td>\n",
       "      <td>NaN</td>\n",
       "    </tr>\n",
       "    <tr>\n",
       "      <th>2</th>\n",
       "      <td>Mammal</td>\n",
       "      <td>Bos taurus</td>\n",
       "      <td>Aurochs, Aurochs, Domestic Cattle (Feral), Dom...</td>\n",
       "      <td>NaN</td>\n",
       "    </tr>\n",
       "    <tr>\n",
       "      <th>3</th>\n",
       "      <td>Mammal</td>\n",
       "      <td>Ovis aries</td>\n",
       "      <td>Domestic Sheep, Mouflon, Red Sheep, Sheep (Feral)</td>\n",
       "      <td>NaN</td>\n",
       "    </tr>\n",
       "    <tr>\n",
       "      <th>4</th>\n",
       "      <td>Mammal</td>\n",
       "      <td>Cervus elaphus</td>\n",
       "      <td>Wapiti Or Elk</td>\n",
       "      <td>NaN</td>\n",
       "    </tr>\n",
       "  </tbody>\n",
       "</table>\n",
       "</div>"
      ],
      "text/plain": [
       "  category                scientific_name  \\\n",
       "0   Mammal  Clethrionomys gapperi gapperi   \n",
       "1   Mammal                      Bos bison   \n",
       "2   Mammal                     Bos taurus   \n",
       "3   Mammal                     Ovis aries   \n",
       "4   Mammal                 Cervus elaphus   \n",
       "\n",
       "                                        common_names conservation_status  \n",
       "0                           Gapper's Red-Backed Vole                 NaN  \n",
       "1                              American Bison, Bison                 NaN  \n",
       "2  Aurochs, Aurochs, Domestic Cattle (Feral), Dom...                 NaN  \n",
       "3  Domestic Sheep, Mouflon, Red Sheep, Sheep (Feral)                 NaN  \n",
       "4                                      Wapiti Or Elk                 NaN  "
      ]
     },
     "execution_count": 3,
     "metadata": {},
     "output_type": "execute_result"
    }
   ],
   "source": [
    "species = pd.read_csv('species_info.csv')\n",
    "species.head()"
   ]
  },
  {
   "cell_type": "markdown",
   "metadata": {},
   "source": [
    "Next, the overall structure of the data can be examined, by using `.info()` to glean some basic information about the data including how many missing observations we have."
   ]
  },
  {
   "cell_type": "markdown",
   "metadata": {},
   "source": [
    "**Species**"
   ]
  },
  {
   "cell_type": "code",
   "execution_count": 4,
   "metadata": {
    "scrolled": false
   },
   "outputs": [
    {
     "name": "stdout",
     "output_type": "stream",
     "text": [
      "<class 'pandas.core.frame.DataFrame'>\n",
      "RangeIndex: 5824 entries, 0 to 5823\n",
      "Data columns (total 4 columns):\n",
      " #   Column               Non-Null Count  Dtype \n",
      "---  ------               --------------  ----- \n",
      " 0   category             5824 non-null   object\n",
      " 1   scientific_name      5824 non-null   object\n",
      " 2   common_names         5824 non-null   object\n",
      " 3   conservation_status  191 non-null    object\n",
      "dtypes: object(4)\n",
      "memory usage: 182.1+ KB\n"
     ]
    }
   ],
   "source": [
    "species.info()"
   ]
  },
  {
   "cell_type": "markdown",
   "metadata": {},
   "source": [
    "There are 23,296 observations, and 5,824 reported species in total. The number of unique species in the dataset can be identified:"
   ]
  },
  {
   "cell_type": "code",
   "execution_count": 5,
   "metadata": {},
   "outputs": [
    {
     "data": {
      "text/plain": [
       "5541"
      ]
     },
     "execution_count": 5,
     "metadata": {},
     "output_type": "execute_result"
    }
   ],
   "source": [
    "species.scientific_name.nunique()"
   ]
  },
  {
   "cell_type": "markdown",
   "metadata": {},
   "source": [
    "Thus, there are 5,541 unique species in the dataset.\n",
    "The only column with missing data is the `conservation_status` column in our `species` dataframe. This data can be assumed to be structurally missing, because for those species who are not under conservation, their conservation status need not be reported. We can verify this by checking the different entries for the `conservation_status` column as follows:"
   ]
  },
  {
   "cell_type": "code",
   "execution_count": 6,
   "metadata": {},
   "outputs": [
    {
     "data": {
      "text/plain": [
       "array([nan, 'Species of Concern', 'Endangered', 'Threatened',\n",
       "       'In Recovery'], dtype=object)"
      ]
     },
     "execution_count": 6,
     "metadata": {},
     "output_type": "execute_result"
    }
   ],
   "source": [
    "species.conservation_status.unique()"
   ]
  },
  {
   "cell_type": "markdown",
   "metadata": {},
   "source": [
    "It is clear from this output that all of these entries indicate a species is under some form of conservation. Next, the distribution of each category can be identified:"
   ]
  },
  {
   "cell_type": "code",
   "execution_count": 7,
   "metadata": {},
   "outputs": [
    {
     "data": {
      "text/plain": [
       "category\n",
       "Amphibian              80\n",
       "Bird                  521\n",
       "Fish                  127\n",
       "Mammal                214\n",
       "Nonvascular Plant     333\n",
       "Reptile                79\n",
       "Vascular Plant       4470\n",
       "dtype: int64"
      ]
     },
     "execution_count": 7,
     "metadata": {},
     "output_type": "execute_result"
    }
   ],
   "source": [
    "species.groupby('category').size()"
   ]
  },
  {
   "cell_type": "markdown",
   "metadata": {},
   "source": [
    "It is clear that the vast majority of our species are of the category `Vascular Plant`. This is interesting to note and may provide some direction for analysis later on."
   ]
  },
  {
   "cell_type": "markdown",
   "metadata": {},
   "source": [
    "**Observations**"
   ]
  },
  {
   "cell_type": "code",
   "execution_count": 8,
   "metadata": {},
   "outputs": [
    {
     "name": "stdout",
     "output_type": "stream",
     "text": [
      "<class 'pandas.core.frame.DataFrame'>\n",
      "RangeIndex: 23296 entries, 0 to 23295\n",
      "Data columns (total 3 columns):\n",
      " #   Column           Non-Null Count  Dtype \n",
      "---  ------           --------------  ----- \n",
      " 0   scientific_name  23296 non-null  object\n",
      " 1   park_name        23296 non-null  object\n",
      " 2   observations     23296 non-null  int64 \n",
      "dtypes: int64(1), object(2)\n",
      "memory usage: 546.1+ KB\n"
     ]
    }
   ],
   "source": [
    "obs.info()"
   ]
  },
  {
   "cell_type": "markdown",
   "metadata": {},
   "source": [
    "Sorting the data to see which animals have been observed the most:"
   ]
  },
  {
   "cell_type": "code",
   "execution_count": 9,
   "metadata": {},
   "outputs": [
    {
     "data": {
      "text/html": [
       "<div>\n",
       "<style scoped>\n",
       "    .dataframe tbody tr th:only-of-type {\n",
       "        vertical-align: middle;\n",
       "    }\n",
       "\n",
       "    .dataframe tbody tr th {\n",
       "        vertical-align: top;\n",
       "    }\n",
       "\n",
       "    .dataframe thead th {\n",
       "        text-align: right;\n",
       "    }\n",
       "</style>\n",
       "<table border=\"1\" class=\"dataframe\">\n",
       "  <thead>\n",
       "    <tr style=\"text-align: right;\">\n",
       "      <th></th>\n",
       "      <th>scientific_name</th>\n",
       "      <th>park_name</th>\n",
       "      <th>observations</th>\n",
       "    </tr>\n",
       "  </thead>\n",
       "  <tbody>\n",
       "    <tr>\n",
       "      <th>11281</th>\n",
       "      <td>Lycopodium tristachyum</td>\n",
       "      <td>Yellowstone National Park</td>\n",
       "      <td>321</td>\n",
       "    </tr>\n",
       "    <tr>\n",
       "      <th>1168</th>\n",
       "      <td>Castilleja miniata</td>\n",
       "      <td>Yellowstone National Park</td>\n",
       "      <td>317</td>\n",
       "    </tr>\n",
       "    <tr>\n",
       "      <th>20734</th>\n",
       "      <td>Cryptantha fendleri</td>\n",
       "      <td>Yellowstone National Park</td>\n",
       "      <td>316</td>\n",
       "    </tr>\n",
       "    <tr>\n",
       "      <th>8749</th>\n",
       "      <td>Dracocephalum parviflorum</td>\n",
       "      <td>Yellowstone National Park</td>\n",
       "      <td>316</td>\n",
       "    </tr>\n",
       "    <tr>\n",
       "      <th>7112</th>\n",
       "      <td>Bidens tripartita</td>\n",
       "      <td>Yellowstone National Park</td>\n",
       "      <td>314</td>\n",
       "    </tr>\n",
       "    <tr>\n",
       "      <th>...</th>\n",
       "      <td>...</td>\n",
       "      <td>...</td>\n",
       "      <td>...</td>\n",
       "    </tr>\n",
       "    <tr>\n",
       "      <th>20375</th>\n",
       "      <td>Sambucus mexicana</td>\n",
       "      <td>Great Smoky Mountains National Park</td>\n",
       "      <td>12</td>\n",
       "    </tr>\n",
       "    <tr>\n",
       "      <th>18823</th>\n",
       "      <td>Rana sierrae</td>\n",
       "      <td>Great Smoky Mountains National Park</td>\n",
       "      <td>11</td>\n",
       "    </tr>\n",
       "    <tr>\n",
       "      <th>16054</th>\n",
       "      <td>Strix occidentalis</td>\n",
       "      <td>Great Smoky Mountains National Park</td>\n",
       "      <td>11</td>\n",
       "    </tr>\n",
       "    <tr>\n",
       "      <th>15511</th>\n",
       "      <td>Collomia tinctoria</td>\n",
       "      <td>Great Smoky Mountains National Park</td>\n",
       "      <td>10</td>\n",
       "    </tr>\n",
       "    <tr>\n",
       "      <th>9418</th>\n",
       "      <td>Corydalis aurea</td>\n",
       "      <td>Bryce National Park</td>\n",
       "      <td>9</td>\n",
       "    </tr>\n",
       "  </tbody>\n",
       "</table>\n",
       "<p>23296 rows × 3 columns</p>\n",
       "</div>"
      ],
      "text/plain": [
       "                 scientific_name                            park_name  \\\n",
       "11281     Lycopodium tristachyum            Yellowstone National Park   \n",
       "1168          Castilleja miniata            Yellowstone National Park   \n",
       "20734        Cryptantha fendleri            Yellowstone National Park   \n",
       "8749   Dracocephalum parviflorum            Yellowstone National Park   \n",
       "7112           Bidens tripartita            Yellowstone National Park   \n",
       "...                          ...                                  ...   \n",
       "20375          Sambucus mexicana  Great Smoky Mountains National Park   \n",
       "18823               Rana sierrae  Great Smoky Mountains National Park   \n",
       "16054         Strix occidentalis  Great Smoky Mountains National Park   \n",
       "15511         Collomia tinctoria  Great Smoky Mountains National Park   \n",
       "9418             Corydalis aurea                  Bryce National Park   \n",
       "\n",
       "       observations  \n",
       "11281           321  \n",
       "1168            317  \n",
       "20734           316  \n",
       "8749            316  \n",
       "7112            314  \n",
       "...             ...  \n",
       "20375            12  \n",
       "18823            11  \n",
       "16054            11  \n",
       "15511            10  \n",
       "9418              9  \n",
       "\n",
       "[23296 rows x 3 columns]"
      ]
     },
     "execution_count": 9,
     "metadata": {},
     "output_type": "execute_result"
    }
   ],
   "source": [
    "obs.sort_values(by=['observations'], ascending=False)"
   ]
  },
  {
   "cell_type": "markdown",
   "metadata": {},
   "source": [
    "And how many observations have been taken during the collection of this dataset:"
   ]
  },
  {
   "cell_type": "code",
   "execution_count": 10,
   "metadata": {},
   "outputs": [
    {
     "data": {
      "text/plain": [
       "3314739"
      ]
     },
     "execution_count": 10,
     "metadata": {},
     "output_type": "execute_result"
    }
   ],
   "source": [
    "obs.observations.sum()"
   ]
  },
  {
   "cell_type": "markdown",
   "metadata": {},
   "source": [
    "3.3 Million!"
   ]
  },
  {
   "cell_type": "markdown",
   "metadata": {},
   "source": [
    "### Analysis"
   ]
  },
  {
   "cell_type": "markdown",
   "metadata": {},
   "source": [
    "Next, each question laid out in the introduction will be answered in turn, starting with the first:\n",
    "\n",
    "**Question One:**\n",
    "* How many species in the dataset are endangered?"
   ]
  },
  {
   "cell_type": "code",
   "execution_count": 11,
   "metadata": {},
   "outputs": [
    {
     "data": {
      "text/plain": [
       "category               16\n",
       "scientific_name        16\n",
       "common_names           16\n",
       "conservation_status    16\n",
       "dtype: int64"
      ]
     },
     "execution_count": 11,
     "metadata": {},
     "output_type": "execute_result"
    }
   ],
   "source": [
    "species[species.conservation_status == 'Endangered'].count()"
   ]
  },
  {
   "cell_type": "markdown",
   "metadata": {},
   "source": [
    "There are 16 endangered species in the dataset. They are as follows:"
   ]
  },
  {
   "cell_type": "code",
   "execution_count": 12,
   "metadata": {},
   "outputs": [
    {
     "data": {
      "text/html": [
       "<div>\n",
       "<style scoped>\n",
       "    .dataframe tbody tr th:only-of-type {\n",
       "        vertical-align: middle;\n",
       "    }\n",
       "\n",
       "    .dataframe tbody tr th {\n",
       "        vertical-align: top;\n",
       "    }\n",
       "\n",
       "    .dataframe thead th {\n",
       "        text-align: right;\n",
       "    }\n",
       "</style>\n",
       "<table border=\"1\" class=\"dataframe\">\n",
       "  <thead>\n",
       "    <tr style=\"text-align: right;\">\n",
       "      <th></th>\n",
       "      <th>category</th>\n",
       "      <th>scientific_name</th>\n",
       "      <th>common_names</th>\n",
       "      <th>conservation_status</th>\n",
       "    </tr>\n",
       "  </thead>\n",
       "  <tbody>\n",
       "    <tr>\n",
       "      <th>0</th>\n",
       "      <td>Mammal</td>\n",
       "      <td>Canis lupus</td>\n",
       "      <td>Gray Wolf</td>\n",
       "      <td>Endangered</td>\n",
       "    </tr>\n",
       "    <tr>\n",
       "      <th>1</th>\n",
       "      <td>Mammal</td>\n",
       "      <td>Canis rufus</td>\n",
       "      <td>Red Wolf</td>\n",
       "      <td>Endangered</td>\n",
       "    </tr>\n",
       "    <tr>\n",
       "      <th>2</th>\n",
       "      <td>Mammal</td>\n",
       "      <td>Myotis grisescens</td>\n",
       "      <td>Gray Myotis</td>\n",
       "      <td>Endangered</td>\n",
       "    </tr>\n",
       "    <tr>\n",
       "      <th>3</th>\n",
       "      <td>Mammal</td>\n",
       "      <td>Myotis sodalis</td>\n",
       "      <td>Indiana Bat, Indiana Or Social Myotis</td>\n",
       "      <td>Endangered</td>\n",
       "    </tr>\n",
       "    <tr>\n",
       "      <th>4</th>\n",
       "      <td>Mammal</td>\n",
       "      <td>Glaucomys sabrinus coloratus</td>\n",
       "      <td>Carolina Northern Flying Squirrel, Northern Fl...</td>\n",
       "      <td>Endangered</td>\n",
       "    </tr>\n",
       "    <tr>\n",
       "      <th>5</th>\n",
       "      <td>Bird</td>\n",
       "      <td>Grus americana</td>\n",
       "      <td>Whooping Crane</td>\n",
       "      <td>Endangered</td>\n",
       "    </tr>\n",
       "    <tr>\n",
       "      <th>6</th>\n",
       "      <td>Bird</td>\n",
       "      <td>Vermivora bachmanii</td>\n",
       "      <td>Bachman's Warbler, Bachman's Wood Warbler</td>\n",
       "      <td>Endangered</td>\n",
       "    </tr>\n",
       "    <tr>\n",
       "      <th>7</th>\n",
       "      <td>Bird</td>\n",
       "      <td>Picoides borealis</td>\n",
       "      <td>Red-Cockaded Woodpecker</td>\n",
       "      <td>Endangered</td>\n",
       "    </tr>\n",
       "    <tr>\n",
       "      <th>8</th>\n",
       "      <td>Fish</td>\n",
       "      <td>Etheostoma percnurum</td>\n",
       "      <td>Duskytail Darter</td>\n",
       "      <td>Endangered</td>\n",
       "    </tr>\n",
       "    <tr>\n",
       "      <th>9</th>\n",
       "      <td>Fish</td>\n",
       "      <td>Noturus baileyi</td>\n",
       "      <td>Smoky Madtom</td>\n",
       "      <td>Endangered</td>\n",
       "    </tr>\n",
       "    <tr>\n",
       "      <th>10</th>\n",
       "      <td>Vascular Plant</td>\n",
       "      <td>Geum radiatum</td>\n",
       "      <td>Mountain Avens, Spreading Avens</td>\n",
       "      <td>Endangered</td>\n",
       "    </tr>\n",
       "    <tr>\n",
       "      <th>11</th>\n",
       "      <td>Fish</td>\n",
       "      <td>Chasmistes liorus</td>\n",
       "      <td>June Sucker</td>\n",
       "      <td>Endangered</td>\n",
       "    </tr>\n",
       "    <tr>\n",
       "      <th>12</th>\n",
       "      <td>Mammal</td>\n",
       "      <td>Ovis canadensis sierrae</td>\n",
       "      <td>Sierra Nevada Bighorn Sheep</td>\n",
       "      <td>Endangered</td>\n",
       "    </tr>\n",
       "    <tr>\n",
       "      <th>13</th>\n",
       "      <td>Mammal</td>\n",
       "      <td>Canis lupus</td>\n",
       "      <td>Gray Wolf, Wolf</td>\n",
       "      <td>Endangered</td>\n",
       "    </tr>\n",
       "    <tr>\n",
       "      <th>14</th>\n",
       "      <td>Bird</td>\n",
       "      <td>Gymnogyps californianus</td>\n",
       "      <td>California Condor</td>\n",
       "      <td>Endangered</td>\n",
       "    </tr>\n",
       "    <tr>\n",
       "      <th>15</th>\n",
       "      <td>Amphibian</td>\n",
       "      <td>Rana sierrae</td>\n",
       "      <td>Sierra Nevada Yellow-Legged Frog</td>\n",
       "      <td>Endangered</td>\n",
       "    </tr>\n",
       "  </tbody>\n",
       "</table>\n",
       "</div>"
      ],
      "text/plain": [
       "          category               scientific_name  \\\n",
       "0           Mammal                   Canis lupus   \n",
       "1           Mammal                   Canis rufus   \n",
       "2           Mammal             Myotis grisescens   \n",
       "3           Mammal                Myotis sodalis   \n",
       "4           Mammal  Glaucomys sabrinus coloratus   \n",
       "5             Bird                Grus americana   \n",
       "6             Bird           Vermivora bachmanii   \n",
       "7             Bird             Picoides borealis   \n",
       "8             Fish          Etheostoma percnurum   \n",
       "9             Fish               Noturus baileyi   \n",
       "10  Vascular Plant                 Geum radiatum   \n",
       "11            Fish             Chasmistes liorus   \n",
       "12          Mammal       Ovis canadensis sierrae   \n",
       "13          Mammal                   Canis lupus   \n",
       "14            Bird       Gymnogyps californianus   \n",
       "15       Amphibian                  Rana sierrae   \n",
       "\n",
       "                                         common_names conservation_status  \n",
       "0                                           Gray Wolf          Endangered  \n",
       "1                                            Red Wolf          Endangered  \n",
       "2                                         Gray Myotis          Endangered  \n",
       "3               Indiana Bat, Indiana Or Social Myotis          Endangered  \n",
       "4   Carolina Northern Flying Squirrel, Northern Fl...          Endangered  \n",
       "5                                      Whooping Crane          Endangered  \n",
       "6           Bachman's Warbler, Bachman's Wood Warbler          Endangered  \n",
       "7                             Red-Cockaded Woodpecker          Endangered  \n",
       "8                                    Duskytail Darter          Endangered  \n",
       "9                                        Smoky Madtom          Endangered  \n",
       "10                    Mountain Avens, Spreading Avens          Endangered  \n",
       "11                                        June Sucker          Endangered  \n",
       "12                        Sierra Nevada Bighorn Sheep          Endangered  \n",
       "13                                    Gray Wolf, Wolf          Endangered  \n",
       "14                                  California Condor          Endangered  \n",
       "15                   Sierra Nevada Yellow-Legged Frog          Endangered  "
      ]
     },
     "execution_count": 12,
     "metadata": {},
     "output_type": "execute_result"
    }
   ],
   "source": [
    "endangered_species = species[species.conservation_status == 'Endangered']\n",
    "endangered_species.reset_index(drop=True, inplace=True)\n",
    "endangered_species"
   ]
  },
  {
   "cell_type": "markdown",
   "metadata": {},
   "source": [
    "Which category has the most endangered species? This can be computed by grouping the data by `category` as follows:"
   ]
  },
  {
   "cell_type": "code",
   "execution_count": 13,
   "metadata": {},
   "outputs": [
    {
     "data": {
      "text/html": [
       "<div>\n",
       "<style scoped>\n",
       "    .dataframe tbody tr th:only-of-type {\n",
       "        vertical-align: middle;\n",
       "    }\n",
       "\n",
       "    .dataframe tbody tr th {\n",
       "        vertical-align: top;\n",
       "    }\n",
       "\n",
       "    .dataframe thead th {\n",
       "        text-align: right;\n",
       "    }\n",
       "</style>\n",
       "<table border=\"1\" class=\"dataframe\">\n",
       "  <thead>\n",
       "    <tr style=\"text-align: right;\">\n",
       "      <th></th>\n",
       "      <th>category</th>\n",
       "      <th>count</th>\n",
       "    </tr>\n",
       "  </thead>\n",
       "  <tbody>\n",
       "    <tr>\n",
       "      <th>0</th>\n",
       "      <td>Amphibian</td>\n",
       "      <td>1</td>\n",
       "    </tr>\n",
       "    <tr>\n",
       "      <th>1</th>\n",
       "      <td>Bird</td>\n",
       "      <td>4</td>\n",
       "    </tr>\n",
       "    <tr>\n",
       "      <th>2</th>\n",
       "      <td>Fish</td>\n",
       "      <td>3</td>\n",
       "    </tr>\n",
       "    <tr>\n",
       "      <th>3</th>\n",
       "      <td>Mammal</td>\n",
       "      <td>7</td>\n",
       "    </tr>\n",
       "    <tr>\n",
       "      <th>4</th>\n",
       "      <td>Vascular Plant</td>\n",
       "      <td>1</td>\n",
       "    </tr>\n",
       "  </tbody>\n",
       "</table>\n",
       "</div>"
      ],
      "text/plain": [
       "         category  count\n",
       "0       Amphibian      1\n",
       "1            Bird      4\n",
       "2            Fish      3\n",
       "3          Mammal      7\n",
       "4  Vascular Plant      1"
      ]
     },
     "execution_count": 13,
     "metadata": {},
     "output_type": "execute_result"
    }
   ],
   "source": [
    "endangered_categories = endangered_species.groupby('category').scientific_name.count()\n",
    "endangered_categories.sort_values(ascending=False)\n",
    "endangered_categories = pd.DataFrame(endangered_categories)\n",
    "endangered_categories.reset_index(inplace=True)\n",
    "endangered_categories.rename(columns={'scientific_name': 'count'}, inplace=True)\n",
    "endangered_categories"
   ]
  },
  {
   "cell_type": "markdown",
   "metadata": {},
   "source": [
    "Mammals are the most commonly endangered species, follwed by birds, fish, amphibians and vascular plants. To visualise these figures, use Seaborn's `countplot` function to create a bar chart:"
   ]
  },
  {
   "cell_type": "code",
   "execution_count": 14,
   "metadata": {},
   "outputs": [
    {
     "data": {
      "image/png": "[encoded data removed]",
      "text/plain": [
       "<Figure size 640x480 with 1 Axes>"
      ]
     },
     "metadata": {},
     "output_type": "display_data"
    },
    {
     "data": {
      "text/plain": [
       "<Figure size 640x480 with 0 Axes>"
      ]
     },
     "metadata": {},
     "output_type": "display_data"
    }
   ],
   "source": [
    "sns.countplot(data=endangered_species, x='category')\n",
    "plt.savefig('endangered.png')\n",
    "plt.show()\n",
    "plt.clf()"
   ]
  },
  {
   "cell_type": "markdown",
   "metadata": {},
   "source": [
    "Of all the categories of observation, mammals are the most likely to be endangered, with 7 species of mammal being endangered.\n",
    "\n",
    "**Question Two:**\n",
    "\n",
    "* Are certain types of species more likely to be endangered than others?\n",
    "The difference between the two is subtle, but this question essentially seeks to find which category has the greatest proportion of endangered species. While mammals may have the largest number of endangered species, is this due to the fact there are a disproportionately large number of mammals observed in the dataset?\n",
    "\n",
    "Recall from previous exploratory analysis that the number of observations belonging to each category is as follows:"
   ]
  },
  {
   "cell_type": "code",
   "execution_count": 15,
   "metadata": {},
   "outputs": [
    {
     "data": {
      "text/html": [
       "<div>\n",
       "<style scoped>\n",
       "    .dataframe tbody tr th:only-of-type {\n",
       "        vertical-align: middle;\n",
       "    }\n",
       "\n",
       "    .dataframe tbody tr th {\n",
       "        vertical-align: top;\n",
       "    }\n",
       "\n",
       "    .dataframe thead th {\n",
       "        text-align: right;\n",
       "    }\n",
       "</style>\n",
       "<table border=\"1\" class=\"dataframe\">\n",
       "  <thead>\n",
       "    <tr style=\"text-align: right;\">\n",
       "      <th></th>\n",
       "      <th>category</th>\n",
       "      <th>count</th>\n",
       "    </tr>\n",
       "  </thead>\n",
       "  <tbody>\n",
       "    <tr>\n",
       "      <th>0</th>\n",
       "      <td>Vascular Plant</td>\n",
       "      <td>4470</td>\n",
       "    </tr>\n",
       "    <tr>\n",
       "      <th>1</th>\n",
       "      <td>Bird</td>\n",
       "      <td>521</td>\n",
       "    </tr>\n",
       "    <tr>\n",
       "      <th>2</th>\n",
       "      <td>Nonvascular Plant</td>\n",
       "      <td>333</td>\n",
       "    </tr>\n",
       "    <tr>\n",
       "      <th>3</th>\n",
       "      <td>Mammal</td>\n",
       "      <td>214</td>\n",
       "    </tr>\n",
       "    <tr>\n",
       "      <th>4</th>\n",
       "      <td>Fish</td>\n",
       "      <td>127</td>\n",
       "    </tr>\n",
       "    <tr>\n",
       "      <th>5</th>\n",
       "      <td>Amphibian</td>\n",
       "      <td>80</td>\n",
       "    </tr>\n",
       "    <tr>\n",
       "      <th>6</th>\n",
       "      <td>Reptile</td>\n",
       "      <td>79</td>\n",
       "    </tr>\n",
       "  </tbody>\n",
       "</table>\n",
       "</div>"
      ],
      "text/plain": [
       "            category  count\n",
       "0     Vascular Plant   4470\n",
       "1               Bird    521\n",
       "2  Nonvascular Plant    333\n",
       "3             Mammal    214\n",
       "4               Fish    127\n",
       "5          Amphibian     80\n",
       "6            Reptile     79"
      ]
     },
     "execution_count": 15,
     "metadata": {},
     "output_type": "execute_result"
    }
   ],
   "source": [
    "num_obs = species.groupby('category').size().sort_values(ascending=False)\n",
    "num_obs = pd.DataFrame(num_obs)\n",
    "num_obs.reset_index(inplace=True)\n",
    "num_obs.columns = ['category', 'count']\n",
    "num_obs"
   ]
  },
  {
   "cell_type": "markdown",
   "metadata": {},
   "source": [
    "Sorting this data allows for easier comparison and visualisation."
   ]
  },
  {
   "cell_type": "code",
   "execution_count": 16,
   "metadata": {},
   "outputs": [
    {
     "data": {
      "image/png": "[encoded data removed]",
      "text/plain": [
       "<Figure size 640x480 with 1 Axes>"
      ]
     },
     "metadata": {},
     "output_type": "display_data"
    },
    {
     "data": {
      "text/plain": [
       "<Figure size 640x480 with 0 Axes>"
      ]
     },
     "metadata": {},
     "output_type": "display_data"
    }
   ],
   "source": [
    "sns.countplot(data=species, x='category', order=num_obs.category)\n",
    "plt.ylabel('Number of Observations')\n",
    "plt.xticks(rotation=30)\n",
    "plt.show()\n",
    "plt.clf()"
   ]
  },
  {
   "cell_type": "markdown",
   "metadata": {},
   "source": [
    "While this does plot the data, it is clear that the overwhelming majority of species belonging to the `Vascular Plant` category make the visualisation difficult to interpret. This can be avoided by viewing the plot with just the other categories:"
   ]
  },
  {
   "cell_type": "code",
   "execution_count": 17,
   "metadata": {},
   "outputs": [
    {
     "data": {
      "image/png": "[encoded data removed]",
      "text/plain": [
       "<Figure size 640x480 with 1 Axes>"
      ]
     },
     "metadata": {},
     "output_type": "display_data"
    },
    {
     "data": {
      "text/plain": [
       "<Figure size 640x480 with 0 Axes>"
      ]
     },
     "metadata": {},
     "output_type": "display_data"
    }
   ],
   "source": [
    "sns.countplot(data=species, x='category', order=num_obs.category[1:])\n",
    "plt.ylabel('Number of Observations')\n",
    "plt.xticks(rotation=30)\n",
    "plt.show()\n",
    "plt.clf()"
   ]
  },
  {
   "cell_type": "markdown",
   "metadata": {},
   "source": [
    "The aim here is to work out the proportion of endangered species relative to their category, to determine the category for which a species is most likely to be endangered. A separate dataframe containing the proportion of endangered species will be created to visualise this."
   ]
  },
  {
   "cell_type": "code",
   "execution_count": 18,
   "metadata": {},
   "outputs": [
    {
     "data": {
      "text/html": [
       "<div>\n",
       "<style scoped>\n",
       "    .dataframe tbody tr th:only-of-type {\n",
       "        vertical-align: middle;\n",
       "    }\n",
       "\n",
       "    .dataframe tbody tr th {\n",
       "        vertical-align: top;\n",
       "    }\n",
       "\n",
       "    .dataframe thead th {\n",
       "        text-align: right;\n",
       "    }\n",
       "</style>\n",
       "<table border=\"1\" class=\"dataframe\">\n",
       "  <thead>\n",
       "    <tr style=\"text-align: right;\">\n",
       "      <th></th>\n",
       "      <th>category</th>\n",
       "      <th>prop_endangered</th>\n",
       "    </tr>\n",
       "  </thead>\n",
       "  <tbody>\n",
       "    <tr>\n",
       "      <th>3</th>\n",
       "      <td>Mammal</td>\n",
       "      <td>3.271028</td>\n",
       "    </tr>\n",
       "    <tr>\n",
       "      <th>2</th>\n",
       "      <td>Fish</td>\n",
       "      <td>2.362205</td>\n",
       "    </tr>\n",
       "    <tr>\n",
       "      <th>0</th>\n",
       "      <td>Amphibian</td>\n",
       "      <td>1.250000</td>\n",
       "    </tr>\n",
       "    <tr>\n",
       "      <th>1</th>\n",
       "      <td>Bird</td>\n",
       "      <td>0.767754</td>\n",
       "    </tr>\n",
       "    <tr>\n",
       "      <th>4</th>\n",
       "      <td>Vascular Plant</td>\n",
       "      <td>0.022371</td>\n",
       "    </tr>\n",
       "  </tbody>\n",
       "</table>\n",
       "</div>"
      ],
      "text/plain": [
       "         category  prop_endangered\n",
       "3          Mammal         3.271028\n",
       "2            Fish         2.362205\n",
       "0       Amphibian         1.250000\n",
       "1            Bird         0.767754\n",
       "4  Vascular Plant         0.022371"
      ]
     },
     "execution_count": 18,
     "metadata": {},
     "output_type": "execute_result"
    }
   ],
   "source": [
    "merged = pd.merge(endangered_categories, num_obs, on='category', how='inner')\n",
    "merged.columns = ['category', 'num_endangered', 'total_obs']\n",
    "merged['prop_endangered'] = merged.apply(lambda row: 100 * (row.num_endangered / row.total_obs), axis=1)\n",
    "merged.sort_values(by='prop_endangered', ascending=False, inplace=True)\n",
    "merged_neat = merged.drop(columns=['num_endangered', 'total_obs'])\n",
    "merged_neat"
   ]
  },
  {
   "cell_type": "markdown",
   "metadata": {},
   "source": [
    "As it turns out, mammals are also the most liklely to be endangered, with 3.27% of all mammals observed being endangered!"
   ]
  },
  {
   "cell_type": "markdown",
   "metadata": {},
   "source": [
    "**Question three:**\n",
    "* Is there any significant difference in the probability of one species being endangered relative to another?"
   ]
  },
  {
   "cell_type": "code",
   "execution_count": 19,
   "metadata": {},
   "outputs": [
    {
     "name": "stdout",
     "output_type": "stream",
     "text": [
      "p-value for Mammal and Fish: 0.8815997515880336\n",
      "p-value for Mammal and Amphibian: 0.5856237376052693\n",
      "p-value for Mammal and Bird: 0.027458824119305284\n",
      "p-value for Mammal and Vascular Plant: 2.5886137410747274e-25\n",
      "p-value for Fish and Amphibian: 0.9620457785370382\n",
      "p-value for Fish and Bird: 0.2801617062109982\n",
      "p-value for Fish and Vascular Plant: 3.0398003234778873e-13\n",
      "p-value for Amphibian and Bird: 1.0\n",
      "p-value for Amphibian and Vascular Plant: 0.012368537770463622\n",
      "p-value for Bird and Vascular Plant: 1.312931856470747e-05\n"
     ]
    }
   ],
   "source": [
    "from scipy.stats import chi2_contingency\n",
    "\n",
    "merged['not_endangered'] = merged.apply(lambda row: row.total_obs - row.num_endangered, axis=1)\n",
    "\n",
    "for i in range(len(merged)):\n",
    "    for j in range(i + 1, len(merged)):\n",
    "        contingency_table = merged[['num_endangered', 'not_endangered']].iloc[[i, j]]\n",
    "        chi2, p_value, _, _ = chi2_contingency(contingency_table)\n",
    "        \n",
    "        print(f\"p-value for {merged['category'].iloc[i]} and {merged['category'].iloc[j]}:\", p_value)"
   ]
  },
  {
   "cell_type": "markdown",
   "metadata": {},
   "source": [
    "This output may seem overwhelming, but the p-value reported simply tells us whether the difference in probability of one category being endangered relative to another is significant. Whether or not the difference is significant depends on the threshold, but normally a threshold of 5% is used. \n",
    "\n",
    "If the p-value is less than 0.05, the difference is statistically significant. If the value is more than 0.05, the difference is not statistically significant. \n",
    "\n",
    "Statistical significance means that, formally, one cannot reject the null hypothesis that the difference between the probability of species in the two categories being endangered is zero. In more understandable terms, it means the difference is too close to zero to be considered different at all.\n",
    "\n",
    "This output can be made easier to understand by only reporting p-values less than 0.05."
   ]
  },
  {
   "cell_type": "code",
   "execution_count": 20,
   "metadata": {},
   "outputs": [
    {
     "name": "stdout",
     "output_type": "stream",
     "text": [
      "the difference in endangered status rates between a Mammal and a Bird is significant (p-value = 0.03)\n",
      "\n",
      "the difference in endangered status rates between a Mammal and a Vascular Plant is significant (p-value = 0.0)\n",
      "\n",
      "the difference in endangered status rates between a Fish and a Vascular Plant is significant (p-value = 0.0)\n",
      "\n",
      "the difference in endangered status rates between a Amphibian and a Vascular Plant is significant (p-value = 0.01)\n",
      "\n",
      "the difference in endangered status rates between a Bird and a Vascular Plant is significant (p-value = 0.0)\n",
      "\n"
     ]
    }
   ],
   "source": [
    "for i in range(len(merged)):\n",
    "    for j in range(i + 1, len(merged)):\n",
    "        contingency_table = merged[['num_endangered', 'not_endangered']].iloc[[i, j]]\n",
    "        chi2, p_value, _, _ = chi2_contingency(contingency_table)\n",
    "        \n",
    "        if p_value < 0.05:\n",
    "            print((f'the difference in endangered status rates between a {merged[\"category\"].iloc[i]} and a {merged[\"category\"].iloc[j]} is significant (p-value = {p_value.round(2)})\\n'))\n",
    "        else:\n",
    "            pass"
   ]
  },
  {
   "cell_type": "markdown",
   "metadata": {},
   "source": [
    "The significant differences in conservation statuses:\n",
    "* Occur primarily between Vascular Plants and the other categories, which could be expected seeing as the proportion of Vascular plants which are endangered is much lower than the other categories.\n",
    "\n",
    "\n",
    "* There is also a significant difference between Mammals and Birds, the groups with the highest and second lowest proportion of endangered species respectively."
   ]
  },
  {
   "cell_type": "markdown",
   "metadata": {},
   "source": [
    "### Conclusion"
   ]
  },
  {
   "cell_type": "markdown",
   "metadata": {},
   "source": [
    "Now that the analysis portion has been conducted, the project will reassess the questions asked and summarise the findings:\n",
    "\n",
    "**How many species in the dataset are endangered?**\n",
    "* *__There were 16 endangered species in the dataset__*, comprising of 7 mammals, 4 birds, 3 fish, 1 amphibian and 1 vascular plant.\n",
    "* There were no reptiles or non-vascular plants which were endangered in the dataset.\n",
    "\n",
    "**Are certain types of species more likely to be endangered than others?**\n",
    "* This question was answered by comparing the proportion of species belonging to each category which were endangered.\n",
    "* The analysis found that *__mammals were the most likely to be endangered__*, with 3.27% being endangered, followed by fish, amphibians, birds and vascular plants.\n",
    "\n",
    "**Is there any significant difference in the probability of one species being endangered relative to another?**\n",
    "* This question sought to determine whether the difference in probability of one category being endangered was significantly different among categories.\n",
    "* For categories where the difference is found to be significant, it can be concluded that the chance of a species belonging to this category being endangered is different to the chance of a species belonging to another category being endangered.\n",
    "* The analysis showed that *__the probability of vascular plants being endangered was significantly lower than the probability of mammals, fish, amphibians and birds. It also found the probability of mammals being endangered was significantly different to the probability of birds being endangered.__*"
   ]
  },
  {
   "cell_type": "markdown",
   "metadata": {},
   "source": [
    "### Further Research"
   ]
  },
  {
   "cell_type": "markdown",
   "metadata": {},
   "source": [
    "Further research may look to analyse data on a larger geographical basis: the dataset used for this project contained only 4 national parks, all in the USA. By incorporating data from a larger range of locations, analysis could seek to discern whether the prevalence of endangered species changes with location, and what kinds of species tend to be more common in different locations."
   ]
  }
 ],
 "metadata": {
  "kernelspec": {
   "display_name": "Python 3 (ipykernel)",
   "language": "python",
   "name": "python3"
  },
  "language_info": {
   "codemirror_mode": {
    "name": "ipython",
    "version": 3
   },
   "file_extension": ".py",
   "mimetype": "text/x-python",
   "name": "python",
   "nbconvert_exporter": "python",
   "pygments_lexer": "ipython3",
   "version": "3.9.13"
  }
 },
 "nbformat": 4,
 "nbformat_minor": 4
}
